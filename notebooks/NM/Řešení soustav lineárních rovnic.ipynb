{
 "cells": [
  {
   "cell_type": "code",
   "execution_count": 1,
   "metadata": {},
   "outputs": [],
   "source": [
    "import numpy as np"
   ]
  },
  {
   "cell_type": "markdown",
   "metadata": {},
   "source": [
    "# Přímé metody"
   ]
  },
  {
   "cell_type": "markdown",
   "metadata": {},
   "source": [
    "##  Gaussova eliminační metoda"
   ]
  },
  {
   "cell_type": "code",
   "execution_count": 2,
   "metadata": {},
   "outputs": [],
   "source": [
    "from numericke_metody.slar import gaussian_elimination"
   ]
  },
  {
   "cell_type": "code",
   "execution_count": 3,
   "metadata": {},
   "outputs": [],
   "source": [
    "A = np.array([[3, 2, 1], [2, 4, 5], [3, 4, 8]])\n",
    "b = np.array([10, 25, 35]).reshape(3, 1)"
   ]
  },
  {
   "cell_type": "code",
   "execution_count": 4,
   "metadata": {},
   "outputs": [
    {
     "data": {
      "text/plain": [
       "array([-0.33333333,  4.33333333,  2.33333333])"
      ]
     },
     "execution_count": 4,
     "metadata": {},
     "output_type": "execute_result"
    }
   ],
   "source": [
    "result = gaussian_elimination(A, b)\n",
    "result"
   ]
  },
  {
   "cell_type": "markdown",
   "metadata": {},
   "source": [
    "## Gaussova eliminační metoda se sloupcovou pivotací"
   ]
  },
  {
   "cell_type": "code",
   "execution_count": 5,
   "metadata": {},
   "outputs": [],
   "source": [
    "from numericke_metody.slar.gem import gaussian_elimination_pivoting"
   ]
  },
  {
   "cell_type": "code",
   "execution_count": 6,
   "metadata": {},
   "outputs": [],
   "source": [
    "A = np.array([[4, 5, 6, 7], [8, 10, 5, 1], [2, 6, 1, 3], [4, 1, 3, 6]])\n",
    "b = np.array([60, 47, 29, 39]).reshape(4, 1)"
   ]
  },
  {
   "cell_type": "code",
   "execution_count": 7,
   "metadata": {},
   "outputs": [
    {
     "name": "stdout",
     "output_type": "stream",
     "text": [
      "Měním 1. řádek s 0. řádkem\n",
      "\n",
      "Měním 3. řádek s 1. řádkem\n",
      "\n",
      "Měním 3. řádek s 2. řádkem\n",
      "\n"
     ]
    },
    {
     "data": {
      "text/plain": [
       "array([0.6125, 3.25  , 0.8   , 5.6   ])"
      ]
     },
     "execution_count": 7,
     "metadata": {},
     "output_type": "execute_result"
    }
   ],
   "source": [
    "result = gaussian_elimination_pivoting(A, b, show_progress=True)\n",
    "result"
   ]
  },
  {
   "cell_type": "markdown",
   "metadata": {},
   "source": [
    "# Iterační metody"
   ]
  },
  {
   "cell_type": "code",
   "execution_count": 8,
   "metadata": {},
   "outputs": [],
   "source": [
    "from numericke_metody.utils.visualizations import plot_vals"
   ]
  },
  {
   "cell_type": "code",
   "execution_count": 9,
   "metadata": {},
   "outputs": [],
   "source": [
    "A = np.array([[9, 2], [2, 3]])\n",
    "b = np.array([48, 26]).reshape((2,1))\n",
    "x0 = np.array([9, 0]).reshape((2,1))"
   ]
  },
  {
   "cell_type": "markdown",
   "metadata": {},
   "source": [
    "## Jacobiho metoda"
   ]
  },
  {
   "cell_type": "code",
   "execution_count": 10,
   "metadata": {},
   "outputs": [],
   "source": [
    "from numericke_metody.slar import jacobi"
   ]
  },
  {
   "cell_type": "code",
   "execution_count": 11,
   "metadata": {},
   "outputs": [
    {
     "name": "stdout",
     "output_type": "stream",
     "text": [
      "Počáteční aproximace x0 = [9 0]\n",
      "\n",
      "Iterace: 1\n",
      "x = [5.33333333 2.66666667], norm_err = 4.533823502911814\n",
      "\n",
      "Iterace: 2\n",
      "x = [4.74074074 5.11111111], norm_err = 2.515248421681429\n",
      "\n",
      "Iterace: 3\n",
      "x = [4.19753086 5.50617284], norm_err = 0.6716775559869352\n",
      "\n",
      "Iterace: 4\n",
      "x = [4.10973937 5.86831276], norm_err = 0.3726293958046562\n",
      "\n",
      "Iterace: 5\n",
      "x = [4.02926383 5.92684042], norm_err = 0.09950778607213906\n",
      "\n",
      "Iterace: 6\n",
      "x = [4.01625768 5.98049078], norm_err = 0.055204354934022745\n",
      "\n",
      "Iterace: 7\n",
      "x = [4.00433538 5.98916154], norm_err = 0.01474189423290939\n",
      "\n",
      "Iterace: 8\n",
      "x = [4.00240855 5.99710975], norm_err = 0.008178422953188776\n",
      "\n",
      "Iterace: 9\n",
      "x = [4.00064228 5.9983943 ], norm_err = 0.0021839843308014803\n",
      "\n",
      "Iterace: 10\n",
      "x = [4.00035682 5.99957181], norm_err = 0.0012116182152868086\n",
      "\n",
      "Iterace: 11\n",
      "x = [4.00009515 5.99976212], norm_err = 0.0003235532341932642\n",
      "\n"
     ]
    }
   ],
   "source": [
    "result = jacobi(A, b, x0, show_progress=True)"
   ]
  },
  {
   "cell_type": "code",
   "execution_count": 12,
   "metadata": {},
   "outputs": [
    {
     "data": {
      "text/plain": [
       "dict_keys(['x_approx', 'norm_err', 'iters', 'x_vals', 'norm_err_vals'])"
      ]
     },
     "execution_count": 12,
     "metadata": {},
     "output_type": "execute_result"
    }
   ],
   "source": [
    "result.keys()"
   ]
  },
  {
   "cell_type": "code",
   "execution_count": 13,
   "metadata": {},
   "outputs": [
    {
     "data": {
      "text/plain": [
       "[None,\n",
       " 4.533823502911814,\n",
       " 2.515248421681429,\n",
       " 0.6716775559869352,\n",
       " 0.3726293958046562,\n",
       " 0.09950778607213906,\n",
       " 0.055204354934022745,\n",
       " 0.01474189423290939,\n",
       " 0.008178422953188776,\n",
       " 0.0021839843308014803,\n",
       " 0.0012116182152868086,\n",
       " 0.0003235532341932642]"
      ]
     },
     "execution_count": 13,
     "metadata": {},
     "output_type": "execute_result"
    }
   ],
   "source": [
    "result['norm_err_vals']"
   ]
  },
  {
   "cell_type": "code",
   "execution_count": 14,
   "metadata": {},
   "outputs": [
    {
     "data": {
      "image/png": "[encoded data removed]",
      "text/plain": [
       "<Figure size 432x288 with 1 Axes>"
      ]
     },
     "metadata": {
      "needs_background": "light"
     },
     "output_type": "display_data"
    }
   ],
   "source": [
    "plot_vals(result['norm_err_vals'][1:], 'norm_err_vals')"
   ]
  },
  {
   "cell_type": "markdown",
   "metadata": {},
   "source": [
    "## Gauss-Seidelova metoda"
   ]
  },
  {
   "cell_type": "code",
   "execution_count": 15,
   "metadata": {},
   "outputs": [],
   "source": [
    "from numericke_metody.slar import gauss_seidel"
   ]
  },
  {
   "cell_type": "code",
   "execution_count": 16,
   "metadata": {},
   "outputs": [
    {
     "name": "stdout",
     "output_type": "stream",
     "text": [
      "Počáteční aproximace x0 = [9 0]\n",
      "\n",
      "Iterace: 1\n",
      "x = [5.33333333 5.11111111], norm_err = 6.290302157652516\n",
      "\n",
      "Iterace: 2\n",
      "x = [4.19753086 5.86831276], norm_err = 1.3650646804225801\n",
      "\n",
      "Iterace: 3\n",
      "x = [4.02926383 5.98049078], norm_err = 0.20223180450704917\n",
      "\n",
      "Iterace: 4\n",
      "x = [4.00433538 5.99710975], norm_err = 0.02996026733437736\n",
      "\n",
      "Iterace: 5\n",
      "x = [4.00064228 5.99957181], norm_err = 0.004438558123611579\n",
      "\n",
      "Iterace: 6\n",
      "x = [4.00009515 5.99993657], norm_err = 0.0006575641664611663\n",
      "\n"
     ]
    }
   ],
   "source": [
    "result = gauss_seidel(A, b, x0, show_progress=True)"
   ]
  },
  {
   "cell_type": "code",
   "execution_count": 17,
   "metadata": {},
   "outputs": [
    {
     "data": {
      "text/plain": [
       "dict_keys(['x_approx', 'norm_err', 'iters', 'x_vals', 'norm_err_vals'])"
      ]
     },
     "execution_count": 17,
     "metadata": {},
     "output_type": "execute_result"
    }
   ],
   "source": [
    "result.keys()"
   ]
  },
  {
   "cell_type": "code",
   "execution_count": 18,
   "metadata": {},
   "outputs": [
    {
     "data": {
      "text/plain": [
       "[None,\n",
       " 6.290302157652516,\n",
       " 1.3650646804225801,\n",
       " 0.20223180450704917,\n",
       " 0.02996026733437736,\n",
       " 0.004438558123611579,\n",
       " 0.0006575641664611663]"
      ]
     },
     "execution_count": 18,
     "metadata": {},
     "output_type": "execute_result"
    }
   ],
   "source": [
    "result['norm_err_vals']"
   ]
  },
  {
   "cell_type": "code",
   "execution_count": 19,
   "metadata": {},
   "outputs": [
    {
     "data": {
      "image/png": "[encoded data removed]",
      "text/plain": [
       "<Figure size 432x288 with 1 Axes>"
      ]
     },
     "metadata": {
      "needs_background": "light"
     },
     "output_type": "display_data"
    }
   ],
   "source": [
    "plot_vals(result['norm_err_vals'][1:], 'norm_err_vals')"
   ]
  },
  {
   "cell_type": "markdown",
   "metadata": {},
   "source": [
    "## SOR metoda"
   ]
  },
  {
   "cell_type": "code",
   "execution_count": 20,
   "metadata": {},
   "outputs": [],
   "source": [
    "from numericke_metody.slar import sor, compute_opt_omega"
   ]
  },
  {
   "cell_type": "code",
   "execution_count": 21,
   "metadata": {},
   "outputs": [
    {
     "name": "stdout",
     "output_type": "stream",
     "text": [
      "Optimální omega = 1.0400642056228877\n"
     ]
    }
   ],
   "source": [
    "omega = compute_opt_omega(A)\n",
    "print(f'Optimální omega = {omega}')"
   ]
  },
  {
   "cell_type": "code",
   "execution_count": 22,
   "metadata": {},
   "outputs": [
    {
     "name": "stdout",
     "output_type": "stream",
     "text": [
      "Počáteční aproximace x0 = [9 0]\n",
      "\n",
      "Iterace: 1\n",
      "x = [5.18643125 5.41774212], norm_err = 6.625348014545645\n",
      "\n",
      "Iterace: 2\n",
      "x = [4.08704115 5.96297544], norm_err = 1.227166641746649\n",
      "\n",
      "Iterace: 3\n",
      "x = [4.00507008 5.99796789], norm_err = 0.08912758837747839\n",
      "\n",
      "Iterace: 4\n",
      "x = [4.00026654 5.9998966 ], norm_err = 0.005176281361945265\n",
      "\n",
      "Iterace: 5\n",
      "x = [4.00001322 5.99999498], norm_err = 0.000271756082848381\n",
      "\n"
     ]
    }
   ],
   "source": [
    "result = sor(A, b, x0, omega, show_progress=True)"
   ]
  },
  {
   "cell_type": "code",
   "execution_count": 23,
   "metadata": {},
   "outputs": [
    {
     "data": {
      "text/plain": [
       "dict_keys(['x_approx', 'norm_err', 'iters', 'x_vals', 'norm_err_vals'])"
      ]
     },
     "execution_count": 23,
     "metadata": {},
     "output_type": "execute_result"
    }
   ],
   "source": [
    "result.keys()"
   ]
  },
  {
   "cell_type": "code",
   "execution_count": 24,
   "metadata": {},
   "outputs": [
    {
     "data": {
      "image/png": "[encoded data removed]",
      "text/plain": [
       "<Figure size 432x288 with 1 Axes>"
      ]
     },
     "metadata": {
      "needs_background": "light"
     },
     "output_type": "display_data"
    }
   ],
   "source": [
    "plot_vals(result['norm_err_vals'][1:], 'norm_err_vals')"
   ]
  },
  {
   "cell_type": "code",
   "execution_count": null,
   "metadata": {},
   "outputs": [],
   "source": []
  }
 ],
 "metadata": {
  "kernelspec": {
   "display_name": "Python 3",
   "language": "python",
   "name": "python3"
  },
  "language_info": {
   "codemirror_mode": {
    "name": "ipython",
    "version": 3
   },
   "file_extension": ".py",
   "mimetype": "text/x-python",
   "name": "python",
   "nbconvert_exporter": "python",
   "pygments_lexer": "ipython3",
   "version": "3.6.4"
  },
  "latex_envs": {
   "LaTeX_envs_menu_present": true,
   "autoclose": false,
   "autocomplete": true,
   "bibliofile": "biblio.bib",
   "cite_by": "apalike",
   "current_citInitial": 1,
   "eqLabelWithNumbers": true,
   "eqNumInitial": 1,
   "hotkeys": {
    "equation": "Ctrl-E",
    "itemize": "Ctrl-I"
   },
   "labels_anchors": false,
   "latex_user_defs": false,
   "report_style_numbering": false,
   "user_envs_cfg": false
  }
 },
 "nbformat": 4,
 "nbformat_minor": 4
}
