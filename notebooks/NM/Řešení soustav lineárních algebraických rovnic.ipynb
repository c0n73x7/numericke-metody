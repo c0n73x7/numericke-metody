{
 "cells": [
  {
   "cell_type": "code",
   "execution_count": 1,
   "metadata": {},
   "outputs": [],
   "source": [
    "import numpy as np\n",
    "from numericke_metody.slar import jacobi_method, gauss_seidel_method\n",
    "from numericke_metody.utils.visualizations import plot_vals"
   ]
  },
  {
   "cell_type": "markdown",
   "metadata": {},
   "source": [
    "# Jacobiho metoda"
   ]
  },
  {
   "cell_type": "code",
   "execution_count": 2,
   "metadata": {},
   "outputs": [],
   "source": [
    "A = np.array([[9, 2], [2, 3]])\n",
    "b = np.array([48, 26]).reshape((2,1))\n",
    "x0 = np.array([9, 0]).reshape((2,1))"
   ]
  },
  {
   "cell_type": "code",
   "execution_count": 3,
   "metadata": {},
   "outputs": [
    {
     "name": "stdout",
     "output_type": "stream",
     "text": [
      "Počáteční aproximace x0 = [9 0]\n",
      "\n",
      "Iterace: 1\n",
      "x = [5.33333333 2.66666667], norm_err = 4.533823502911814\n",
      "\n",
      "Iterace: 2\n",
      "x = [4.74074074 5.11111111], norm_err = 2.515248421681429\n",
      "\n",
      "Iterace: 3\n",
      "x = [4.19753086 5.50617284], norm_err = 0.6716775559869352\n",
      "\n",
      "Iterace: 4\n",
      "x = [4.10973937 5.86831276], norm_err = 0.3726293958046562\n",
      "\n",
      "Iterace: 5\n",
      "x = [4.02926383 5.92684042], norm_err = 0.09950778607213906\n",
      "\n",
      "Iterace: 6\n",
      "x = [4.01625768 5.98049078], norm_err = 0.055204354934022745\n",
      "\n",
      "Iterace: 7\n",
      "x = [4.00433538 5.98916154], norm_err = 0.01474189423290939\n",
      "\n",
      "Iterace: 8\n",
      "x = [4.00240855 5.99710975], norm_err = 0.008178422953188776\n",
      "\n",
      "Iterace: 9\n",
      "x = [4.00064228 5.9983943 ], norm_err = 0.0021839843308014803\n",
      "\n",
      "Iterace: 10\n",
      "x = [4.00035682 5.99957181], norm_err = 0.0012116182152868086\n",
      "\n",
      "Iterace: 11\n",
      "x = [4.00009515 5.99976212], norm_err = 0.0003235532341932642\n",
      "\n"
     ]
    }
   ],
   "source": [
    "result = jacobi_method(A, b, x0, show_progress=True)"
   ]
  },
  {
   "cell_type": "code",
   "execution_count": 4,
   "metadata": {},
   "outputs": [
    {
     "data": {
      "text/plain": [
       "dict_keys(['x_approx', 'norm_err', 'iters', 'x_vals', 'norm_err_vals'])"
      ]
     },
     "execution_count": 4,
     "metadata": {},
     "output_type": "execute_result"
    }
   ],
   "source": [
    "result.keys()"
   ]
  },
  {
   "cell_type": "code",
   "execution_count": 5,
   "metadata": {},
   "outputs": [
    {
     "data": {
      "text/plain": [
       "[None,\n",
       " 4.533823502911814,\n",
       " 2.515248421681429,\n",
       " 0.6716775559869352,\n",
       " 0.3726293958046562,\n",
       " 0.09950778607213906,\n",
       " 0.055204354934022745,\n",
       " 0.01474189423290939,\n",
       " 0.008178422953188776,\n",
       " 0.0021839843308014803,\n",
       " 0.0012116182152868086,\n",
       " 0.0003235532341932642]"
      ]
     },
     "execution_count": 5,
     "metadata": {},
     "output_type": "execute_result"
    }
   ],
   "source": [
    "result['norm_err_vals']"
   ]
  },
  {
   "cell_type": "code",
   "execution_count": 6,
   "metadata": {},
   "outputs": [
    {
     "data": {
      "image/png": "[encoded data removed]",
      "text/plain": [
       "<Figure size 432x288 with 1 Axes>"
      ]
     },
     "metadata": {
      "needs_background": "light"
     },
     "output_type": "display_data"
    }
   ],
   "source": [
    "plot_vals(result['norm_err_vals'][1:], 'norm_err_vals')"
   ]
  },
  {
   "cell_type": "markdown",
   "metadata": {},
   "source": [
    "# Gauss-Seidelova metoda"
   ]
  },
  {
   "cell_type": "code",
   "execution_count": 7,
   "metadata": {},
   "outputs": [],
   "source": [
    "A = np.array([[9, 2], [2, 3]])\n",
    "b = np.array([48, 26]).reshape((2,1))\n",
    "x0 = np.array([9, 0]).reshape((2,1))"
   ]
  },
  {
   "cell_type": "code",
   "execution_count": 8,
   "metadata": {},
   "outputs": [
    {
     "name": "stdout",
     "output_type": "stream",
     "text": [
      "Počáteční aproximace x0 = [9 0]\n",
      "\n",
      "Iterace: 1\n",
      "x = [5.33333333 5.11111111], norm_err = 6.290302157652516\n",
      "\n",
      "Iterace: 2\n",
      "x = [4.19753086 5.86831276], norm_err = 1.3650646804225801\n",
      "\n",
      "Iterace: 3\n",
      "x = [4.02926383 5.98049078], norm_err = 0.20223180450704917\n",
      "\n",
      "Iterace: 4\n",
      "x = [4.00433538 5.99710975], norm_err = 0.02996026733437736\n",
      "\n",
      "Iterace: 5\n",
      "x = [4.00064228 5.99957181], norm_err = 0.004438558123611579\n",
      "\n",
      "Iterace: 6\n",
      "x = [4.00009515 5.99993657], norm_err = 0.0006575641664611663\n",
      "\n"
     ]
    }
   ],
   "source": [
    "result = gauss_seidel_method(A, b, x0, show_progress=True)"
   ]
  },
  {
   "cell_type": "code",
   "execution_count": 9,
   "metadata": {},
   "outputs": [
    {
     "data": {
      "text/plain": [
       "dict_keys(['x_approx', 'norm_err', 'iters', 'x_vals', 'norm_err_vals'])"
      ]
     },
     "execution_count": 9,
     "metadata": {},
     "output_type": "execute_result"
    }
   ],
   "source": [
    "result.keys()"
   ]
  },
  {
   "cell_type": "code",
   "execution_count": 10,
   "metadata": {},
   "outputs": [
    {
     "data": {
      "text/plain": [
       "[None,\n",
       " 6.290302157652516,\n",
       " 1.3650646804225801,\n",
       " 0.20223180450704917,\n",
       " 0.02996026733437736,\n",
       " 0.004438558123611579,\n",
       " 0.0006575641664611663]"
      ]
     },
     "execution_count": 10,
     "metadata": {},
     "output_type": "execute_result"
    }
   ],
   "source": [
    "result['norm_err_vals']"
   ]
  },
  {
   "cell_type": "code",
   "execution_count": 11,
   "metadata": {},
   "outputs": [
    {
     "data": {
      "image/png": "[encoded data removed]",
      "text/plain": [
       "<Figure size 432x288 with 1 Axes>"
      ]
     },
     "metadata": {
      "needs_background": "light"
     },
     "output_type": "display_data"
    }
   ],
   "source": [
    "plot_vals(result['norm_err_vals'][1:], 'norm_err_vals')"
   ]
  },
  {
   "cell_type": "code",
   "execution_count": null,
   "metadata": {},
   "outputs": [],
   "source": []
  }
 ],
 "metadata": {
  "kernelspec": {
   "display_name": "Python 3",
   "language": "python",
   "name": "python3"
  },
  "language_info": {
   "codemirror_mode": {
    "name": "ipython",
    "version": 3
   },
   "file_extension": ".py",
   "mimetype": "text/x-python",
   "name": "python",
   "nbconvert_exporter": "python",
   "pygments_lexer": "ipython3",
   "version": "3.7.4"
  },
  "latex_envs": {
   "LaTeX_envs_menu_present": true,
   "autoclose": false,
   "autocomplete": true,
   "bibliofile": "biblio.bib",
   "cite_by": "apalike",
   "current_citInitial": 1,
   "eqLabelWithNumbers": true,
   "eqNumInitial": 1,
   "hotkeys": {
    "equation": "Ctrl-E",
    "itemize": "Ctrl-I"
   },
   "labels_anchors": false,
   "latex_user_defs": false,
   "report_style_numbering": false,
   "user_envs_cfg": false
  }
 },
 "nbformat": 4,
 "nbformat_minor": 4
}
