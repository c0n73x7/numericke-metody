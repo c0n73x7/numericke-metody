{
 "cells": [
  {
   "cell_type": "markdown",
   "metadata": {},
   "source": [
    "# 4. Výpočet vlastních čísel a vlastních vektorů"
   ]
  },
  {
   "cell_type": "code",
   "execution_count": 1,
   "metadata": {},
   "outputs": [],
   "source": [
    "import numpy as np\n",
    "from numericke_metody.eigen import *"
   ]
  },
  {
   "cell_type": "markdown",
   "metadata": {},
   "source": [
    "## LR transformace (LU rozklad)\n",
    "\n",
    "----\n",
    "```python\n",
    "Input: čtvercová matice A\n",
    "    \n",
    "1: A(0) := A, k:= 0\n",
    "2: while A(k) není horní trojúhelníková:\n",
    "3:      L, U := LU_rozklad(A(k))    \n",
    "4:      k := k + 1\n",
    "4:      A(k) := U * L\n",
    "    \n",
    "Output: matice A(k) s vlastními čísly na diagonále\n",
    "```\n",
    "----"
   ]
  },
  {
   "cell_type": "code",
   "execution_count": 2,
   "metadata": {},
   "outputs": [
    {
     "name": "stdout",
     "output_type": "stream",
     "text": [
      "[[ 17.160932   3.80201   32.701487   1.071456   2.      ]\n",
      " [  0.         6.682669 -24.125524  -0.949161   1.028207]\n",
      " [ -0.        -0.000091   5.288074   0.116714  -1.674868]\n",
      " [ -0.         0.        -0.         2.378164  42.520854]\n",
      " [  0.         0.        -0.        -0.         1.490161]]\n",
      "\n",
      "Vlastní čísla matice A:\n",
      "        [17.1609317   6.68266901  5.2880742   2.37816444  1.49016065]\n"
     ]
    }
   ],
   "source": [
    "A = np.array([[7,1,3,1,2],\n",
    "              [2,8,6,1,5],\n",
    "              [2,4,8,1,2],\n",
    "             [3,4,1,7,1],\n",
    "             [2,3,5,1,3]])\n",
    "\n",
    "eigens = lr_transform(A, max_iter=30, progress=.1)\n"
   ]
  },
  {
   "cell_type": "markdown",
   "metadata": {},
   "source": [
    "## QR transformace (QU rozklad, QR factorization)\n",
    "\n",
    "----\n",
    "```python\n",
    "Input: čtvercová matice A\n",
    "    \n",
    "1: A(0) := A, k:= 0\n",
    "2: while A(k) není horní trojúhelníková:\n",
    "3:      Q, U := QU_rozklad(A(k))    \n",
    "4:      k := k + 1\n",
    "4:      A(k) := U * Q\n",
    "    \n",
    "Output: matice A(k) s vlastními čísly na diagonále\n",
    "```\n",
    "----"
   ]
  },
  {
   "cell_type": "code",
   "execution_count": 3,
   "metadata": {},
   "outputs": [
    {
     "name": "stdout",
     "output_type": "stream",
     "text": [
      "[[17.160932  1.731608  2.162114  1.980017 -1.745664]\n",
      " [ 0.        6.690585 -0.546525  2.353126 -0.359025]\n",
      " [ 0.        0.016302  5.280159  2.197773 -0.577977]\n",
      " [ 0.       -0.       -0.000001  2.378207 -2.492341]\n",
      " [ 0.        0.        0.        0.000015  1.490118]]\n",
      "\n",
      "Vlastní čísla matice A:\n",
      "        [17.16093168  6.69058467  5.28015901  2.3782069   1.49011774]\n"
     ]
    }
   ],
   "source": [
    "A = np.array([[7,1,3,1,2],\n",
    "              [2,8,6,1,5],\n",
    "              [2,4,8,1,2],\n",
    "             [3,4,1,7,1],\n",
    "             [2,3,5,1,3]])\n",
    "\n",
    "eigens = qr_transform(A, max_iter=20, progress=.2)"
   ]
  },
  {
   "cell_type": "markdown",
   "metadata": {},
   "source": [
    "## Jacobiho diagonalizace\n",
    "\n",
    "----\n",
    "```c++\n",
    "Input: čtvercová matice A\n",
    "\n",
    "01: A(0) := A, k:= 0, i:=0\n",
    "02: while chyba > tolerance:\n",
    "03:      if i = velikost(A) - 1: \n",
    "04:          i := 0\n",
    "05:      i := i + 1\n",
    "06:      j := i + 1\n",
    "07:      while chyba > tolerance:\n",
    "08:          A(k+1) = rotace(A(k), i, j)\n",
    "09:          k := k + 1\n",
    "10:          chyba = || horní_trojúhelhíková(A(k),1) ||\n",
    "11:          j := j + 1\n",
    "\n",
    "Output: matice A(k) s vlastními čísly na diagonále\n",
    "```\n",
    "----"
   ]
  },
  {
   "cell_type": "code",
   "execution_count": 4,
   "metadata": {},
   "outputs": [
    {
     "name": "stdout",
     "output_type": "stream",
     "text": [
      "[[311.466552   0.         0.        -0.         0.      ]\n",
      " [  0.        51.036309  -0.         0.        -0.      ]\n",
      " [  0.        -0.        33.211685  -0.         0.      ]\n",
      " [ -0.         0.        -0.        10.448216   0.      ]\n",
      " [  0.        -0.         0.         0.         0.837238]]\n",
      "\n",
      "Počet iterací: 31\n",
      "Vlastní čísla matice A:\n",
      "        [311.46655191  51.03630923  33.21168474  10.44821577   0.83723836]\n"
     ]
    }
   ],
   "source": [
    "A=np.array([[64,51,47,37,39],\n",
    "            [51,130,95,56,74],\n",
    "            [47,95,89,39,63],\n",
    "            [37,56,39,76,33],\n",
    "            [39,74,63,33,48]])\n",
    "\n",
    "eigens = jacobi(A, eps = 1.e-8, max_iter=100, progress=.1)"
   ]
  },
  {
   "cell_type": "markdown",
   "metadata": {},
   "source": [
    "<br>\n",
    "<br>\n",
    "\n",
    "__Jacobiho diagonalizace s volbou maximalního prvku v absolutní hodnotě pro získání matice rotace__\n",
    "\n",
    "----\n",
    "```c++\n",
    "Input: čtvercová matice A\n",
    "\n",
    "1: A(0) := A, k := 0\n",
    "2: while chyba > tolerance:\n",
    "3:      i, j := index_největšího_prvku (horní_trojúhelníková(A(k)))  \n",
    "4:      A(k+1) := rotace(A(k), i, j)\n",
    "5:      k := k + 1\n",
    "6:      chyba := || horní_trojúhelhíková(A(k),1) ||\n",
    "\n",
    "Output: matice A(k) s vlastními čísly na diagonále\n",
    "```\n",
    "----"
   ]
  },
  {
   "cell_type": "code",
   "execution_count": 5,
   "metadata": {},
   "outputs": [
    {
     "name": "stdout",
     "output_type": "stream",
     "text": [
      "[[311.466552   0.        -0.        -0.         0.      ]\n",
      " [  0.        51.036309  -0.         0.         0.      ]\n",
      " [ -0.        -0.        33.211685   0.        -0.      ]\n",
      " [ -0.         0.         0.        10.448216   0.      ]\n",
      " [  0.         0.        -0.         0.         0.837238]]\n",
      "\n",
      "Počet iterací: 29\n",
      "Vlastní čísla matice A:\n",
      "        [311.46655191  51.03630923  33.21168474  10.44821577   0.83723836]\n"
     ]
    }
   ],
   "source": [
    "A=np.array([[64,51,47,37,39],\n",
    "            [51,130,95,56,74],\n",
    "            [47,95,89,39,63],\n",
    "            [37,56,39,76,33],\n",
    "            [39,74,63,33,48]])\n",
    "\n",
    "eigens = jacobi_max(A, eps = 1.e-8, max_iter=100, progress=.1)"
   ]
  },
  {
   "cell_type": "markdown",
   "metadata": {},
   "source": [
    "## Mocninná metoda\n",
    "\n",
    "## Metoda Rayleighova podílu\n",
    "\n",
    "----\n",
    "```c++\n",
    "Input: čtvercová symetrická matice A, počáteční aproximace y0, tolerance \n",
    "\n",
    "1: y(1) := [a,b,c,d], k:= 1\n",
    "2: lambda_stara = +oo            \n",
    "3: while chyba > tolerance:\n",
    "4:     y[k+1] := A . y[k]\n",
    "5:     index_max := max(abs(y[k+1]))\n",
    "5:     lambda_nova := y[k+1][index_max] / y[k][index_max]\n",
    "6:     chyba := Abs(lambda_stara - lambda_nova)\n",
    "7:     k := k + 1\n",
    "8:     lambda_stara := lambda_nova\n",
    "9: lambda_dominantní := lambda_nova\n",
    "\n",
    "Output: Dominantní vlastní číslo matice A lambda_dominantní \n",
    "```\n",
    "----"
   ]
  },
  {
   "cell_type": "code",
   "execution_count": 6,
   "metadata": {},
   "outputs": [
    {
     "name": "stdout",
     "output_type": "stream",
     "text": [
      "23. iterace:\n",
      "\n",
      "    lambda = 6.422247201135458\n",
      "    y(23) = [[2.43308182e+17 4.69399281e+17 6.06561857e+17 7.56521888e+17]]T\n",
      "    chyba = 7.401012067198565e-06\n"
     ]
    }
   ],
   "source": [
    "A = np.array([[2,1,1,0],\n",
    "             [1,3,1,1],\n",
    "             [1,1,4,1],\n",
    "             [0,1,1,5]])\n",
    "y0 = np.array([1,1,1,1])\n",
    "\n",
    "lambda_prc = power_iteration(A, y0, eps = 1e-5, max_iter=50, progress=.3)"
   ]
  },
  {
   "cell_type": "markdown",
   "metadata": {},
   "source": [
    "__Mocninná metoda s normováním vlastního vektoru v každé iteraci__"
   ]
  },
  {
   "cell_type": "code",
   "execution_count": 7,
   "metadata": {},
   "outputs": [
    {
     "name": "stdout",
     "output_type": "stream",
     "text": [
      "23. iterace:\n",
      "\n",
      "    lambda = 6.422247201135459\n",
      "    y(23) = [[0.22030099 0.42501295 0.54920545 0.68498528]]T\n",
      "    chyba = 7.401012066310386e-06\n"
     ]
    }
   ],
   "source": [
    "A = np.array([[2,1,1,0],\n",
    "             [1,3,1,1],\n",
    "             [1,1,4,1],\n",
    "             [0,1,1,5]])\n",
    "y0 = np.array([1,1,1,1])\n",
    "\n",
    "lambda_prc = power_iteration(A, y0, eps = 1e-5, max_iter=50, norm = True, progress=.3)"
   ]
  },
  {
   "cell_type": "markdown",
   "metadata": {},
   "source": [
    "## Metoda Rayleighova podílu\n",
    "\n",
    "----\n",
    "```python\n",
    "Input: čtvercová symetrická matice A, počáteční aproximace y0, tolerance \n",
    "\n",
    "1: y(1) := [a,b,c,d], k:= 1\n",
    "2: lambda_stara = +oo            \n",
    "3: while chyba > tolerance:\n",
    "4:     y[k+1] := A . y[k]\n",
    "5:     lambda_nova := (y[k].T @ y[k+1]) / (y[k].T @ y[k])\n",
    "6:     chyba := Abs(lambda_stara - lambda_nova)\n",
    "7:     k := k + 1\n",
    "8:     lambda_stara := lambda_nova\n",
    "9: lambda_dominantní := lambda_nova\n",
    "\n",
    "Output: Dominantní vlastní číslo matice A lambda_dominantní \n",
    "```\n",
    "----"
   ]
  },
  {
   "cell_type": "code",
   "execution_count": 8,
   "metadata": {},
   "outputs": [
    {
     "name": "stdout",
     "output_type": "stream",
     "text": [
      "12. iterace:\n",
      "\n",
      "    lambda = 6.422232919180039\n",
      "    y(12) = [[3.18018132e+08 6.12723744e+08 7.92063765e+08 9.85829742e+08]]T\n",
      "    chyba = 4.7935027618351e-06\n"
     ]
    }
   ],
   "source": [
    "A = np.array([[2,1,1,0],\n",
    "             [1,3,1,1],\n",
    "             [1,1,4,1],\n",
    "             [0,1,1,5]])\n",
    "y0 = np.array([1,1,1,1])\n",
    "\n",
    "lambda_prc = rayleigh(A, y0, eps = 1e-5, max_iter=50, progress=.3)"
   ]
  },
  {
   "cell_type": "markdown",
   "metadata": {},
   "source": [
    "__Metoda Rayleighova podílu s normováním vlastního vektoru v každé iteraci__"
   ]
  },
  {
   "cell_type": "code",
   "execution_count": 9,
   "metadata": {},
   "outputs": [
    {
     "name": "stdout",
     "output_type": "stream",
     "text": [
      "12. iterace:\n",
      "\n",
      "    lambda = 6.422232919180039\n",
      "    y(12) = [[0.22072933 0.42527796 0.54975389 0.68424256]]T\n",
      "    chyba = 4.793502760946922e-06\n"
     ]
    }
   ],
   "source": [
    "A = np.array([[2,1,1,0],\n",
    "             [1,3,1,1],\n",
    "             [1,1,4,1],\n",
    "             [0,1,1,5]])\n",
    "y0 = np.array([1,1,1,1])\n",
    "\n",
    "lambda_prc = rayleigh(A, y0, eps = 1e-5, max_iter=50, norm = True, progress=.3)"
   ]
  },
  {
   "cell_type": "code",
   "execution_count": null,
   "metadata": {},
   "outputs": [],
   "source": []
  }
 ],
 "metadata": {
  "kernelspec": {
   "display_name": "Python 3",
   "language": "python",
   "name": "python3"
  },
  "language_info": {
   "codemirror_mode": {
    "name": "ipython",
    "version": 3
   },
   "file_extension": ".py",
   "mimetype": "text/x-python",
   "name": "python",
   "nbconvert_exporter": "python",
   "pygments_lexer": "ipython3",
   "version": "3.7.4"
  },
  "latex_envs": {
   "LaTeX_envs_menu_present": true,
   "autoclose": false,
   "autocomplete": true,
   "bibliofile": "biblio.bib",
   "cite_by": "apalike",
   "current_citInitial": 1,
   "eqLabelWithNumbers": true,
   "eqNumInitial": 1,
   "hotkeys": {
    "equation": "Ctrl-E",
    "itemize": "Ctrl-I"
   },
   "labels_anchors": false,
   "latex_user_defs": false,
   "report_style_numbering": false,
   "user_envs_cfg": false
  }
 },
 "nbformat": 4,
 "nbformat_minor": 4
}
