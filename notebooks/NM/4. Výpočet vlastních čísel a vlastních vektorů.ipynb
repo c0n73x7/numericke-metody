{
 "cells": [
  {
   "cell_type": "markdown",
   "metadata": {},
   "source": [
    "# 4. Výpočet vlastních čísel a vlastních vektorů\n",
    "\n",
    "TODO:\n",
    "- vlastní implementac QR rozkladu?\n",
    "- testovat předpoklady matic\n",
    "    - pro LU, QR: čtvercová\n",
    "    - pro Jacobiho: čtvercová, symetrická"
   ]
  },
  {
   "cell_type": "code",
   "execution_count": 1,
   "metadata": {},
   "outputs": [],
   "source": [
    "import numpy as np\n",
    "from numericke_metody.eigen import *"
   ]
  },
  {
   "cell_type": "markdown",
   "metadata": {},
   "source": [
    "## LR transformace (LU rozklad)\n",
    "\n",
    "----\n",
    "```python\n",
    "Input: čtvercová matice A\n",
    "    \n",
    "1: A(0) := A, k:= 0\n",
    "2: while A(k) není horní trojúhelníková:\n",
    "3:      L, U := LU_rozklad(A(k))    \n",
    "4:      k := k + 1\n",
    "4:      A(k) := U * L\n",
    "    \n",
    "Output: matice A(k) s vlastními čísly na diagonále\n",
    "```\n",
    "----"
   ]
  },
  {
   "cell_type": "code",
   "execution_count": 3,
   "metadata": {},
   "outputs": [
    {
     "name": "stdout",
     "output_type": "stream",
     "text": [
      "[[ 17.160932   3.80201   32.701487   1.071456   2.      ]\n",
      " [  0.         6.682669 -24.125524  -0.949161   1.028207]\n",
      " [ -0.        -0.000091   5.288074   0.116714  -1.674868]\n",
      " [ -0.         0.        -0.         2.378164  42.520854]\n",
      " [  0.         0.        -0.        -0.         1.490161]]\n",
      "\n",
      "Vlastní čísla matice A:\n",
      "        [17.1609317   6.68266901  5.2880742   2.37816444  1.49016065]\n"
     ]
    }
   ],
   "source": [
    "A = np.array([[7,1,3,1,2],\n",
    "              [2,8,6,1,5],\n",
    "              [2,4,8,1,2],\n",
    "             [3,4,1,7,1],\n",
    "             [2,3,5,1,3]])\n",
    "\n",
    "eigens = lr_transform(A, max_iter=30, progress=.1)\n"
   ]
  },
  {
   "cell_type": "markdown",
   "metadata": {},
   "source": [
    "## QR transformace (QU rozklad, QR factorization)\n",
    "\n",
    "----\n",
    "```python\n",
    "Input: čtvercová matice A\n",
    "    \n",
    "1: A(0) := A, k:= 0\n",
    "2: while A(k) není horní trojúhelníková:\n",
    "3:      Q, U := QU_rozklad(A(k))    \n",
    "4:      k := k + 1\n",
    "4:      A(k) := U * Q\n",
    "    \n",
    "Output: matice A(k) s vlastními čísly na diagonále\n",
    "```\n",
    "----"
   ]
  },
  {
   "cell_type": "code",
   "execution_count": 4,
   "metadata": {},
   "outputs": [
    {
     "name": "stdout",
     "output_type": "stream",
     "text": [
      "[[17.160932  1.731608  2.162114  1.980017 -1.745664]\n",
      " [ 0.        6.690585 -0.546525  2.353126 -0.359025]\n",
      " [ 0.        0.016302  5.280159  2.197773 -0.577977]\n",
      " [ 0.       -0.       -0.000001  2.378207 -2.492341]\n",
      " [ 0.        0.        0.        0.000015  1.490118]]\n",
      "\n",
      "Vlastní čísla matice A:\n",
      "        [17.16093168  6.69058467  5.28015901  2.3782069   1.49011774]\n"
     ]
    }
   ],
   "source": [
    "A = np.array([[7,1,3,1,2],\n",
    "              [2,8,6,1,5],\n",
    "              [2,4,8,1,2],\n",
    "             [3,4,1,7,1],\n",
    "             [2,3,5,1,3]])\n",
    "\n",
    "eigens = qr_transform(A, max_iter=20, progress=.2)"
   ]
  },
  {
   "cell_type": "code",
   "execution_count": null,
   "metadata": {},
   "outputs": [],
   "source": []
  }
 ],
 "metadata": {
  "kernelspec": {
   "display_name": "Python 3",
   "language": "python",
   "name": "python3"
  },
  "language_info": {
   "codemirror_mode": {
    "name": "ipython",
    "version": 3
   },
   "file_extension": ".py",
   "mimetype": "text/x-python",
   "name": "python",
   "nbconvert_exporter": "python",
   "pygments_lexer": "ipython3",
   "version": "3.6.4"
  }
 },
 "nbformat": 4,
 "nbformat_minor": 4
}
