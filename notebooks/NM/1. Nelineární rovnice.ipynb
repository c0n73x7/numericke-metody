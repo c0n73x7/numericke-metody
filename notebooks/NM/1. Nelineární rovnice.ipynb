{
 "cells": [
  {
   "cell_type": "code",
   "execution_count": 1,
   "metadata": {},
   "outputs": [],
   "source": [
    "import numpy as np"
   ]
  },
  {
   "cell_type": "markdown",
   "metadata": {},
   "source": [
    "# Metoda bisekce"
   ]
  },
  {
   "cell_type": "code",
   "execution_count": 2,
   "metadata": {},
   "outputs": [],
   "source": [
    "from numericke_metody.nonlin_equations import bisection"
   ]
  },
  {
   "cell_type": "markdown",
   "metadata": {},
   "source": [
    "$f(x) = \\frac{x}{8 \\cdot (63 x^4 - 70 x^2 + 15)}$"
   ]
  },
  {
   "cell_type": "code",
   "execution_count": 3,
   "metadata": {},
   "outputs": [],
   "source": [
    "def f(x):\n",
    "    return x / 8 * (63 * x**4 - 70 * x**2 + 15)"
   ]
  },
  {
   "cell_type": "code",
   "execution_count": 4,
   "metadata": {},
   "outputs": [
    {
     "name": "stdout",
     "output_type": "stream",
     "text": [
      "Iteration: 1\n",
      "x_approx: 0.45\n",
      "\n",
      "Iteration: 2\n",
      "x_approx: 0.175\n",
      "\n",
      "Iteration: 3\n",
      "x_approx: 0.03749999999999999\n",
      "\n",
      "Iteration: 4\n",
      "x_approx: -0.03125000000000001\n",
      "\n",
      "Iteration: 5\n",
      "x_approx: 0.0031249999999999924\n",
      "\n",
      "Iteration: 6\n",
      "x_approx: -0.014062500000000007\n",
      "\n",
      "Iteration: 7\n",
      "x_approx: -0.0054687500000000075\n",
      "\n",
      "Iteration: 8\n",
      "x_approx: -0.0011718750000000075\n",
      "\n",
      "Iteration: 9\n",
      "x_approx: 0.0009765624999999924\n",
      "\n",
      "Iteration: 10\n",
      "x_approx: -9.765625000000757e-05\n",
      "\n",
      "Iteration: 11\n",
      "x_approx: 0.0004394531249999924\n",
      "\n",
      "Iteration: 12\n",
      "x_approx: 0.00017089843749999243\n",
      "\n"
     ]
    }
   ],
   "source": [
    "result = bisection(f, -0.1, 1, 0.001, show_progress=True)"
   ]
  },
  {
   "cell_type": "code",
   "execution_count": 5,
   "metadata": {},
   "outputs": [
    {
     "data": {
      "text/plain": [
       "dict_keys(['x_approx', 'iters', 's_vals'])"
      ]
     },
     "execution_count": 5,
     "metadata": {},
     "output_type": "execute_result"
    }
   ],
   "source": [
    "result.keys()"
   ]
  },
  {
   "cell_type": "code",
   "execution_count": 6,
   "metadata": {},
   "outputs": [
    {
     "data": {
      "text/plain": [
       "0.00017089843749999243"
      ]
     },
     "execution_count": 6,
     "metadata": {},
     "output_type": "execute_result"
    }
   ],
   "source": [
    "result['x_approx']"
   ]
  },
  {
   "cell_type": "markdown",
   "metadata": {},
   "source": [
    "# Metoda prosté iterace"
   ]
  },
  {
   "cell_type": "code",
   "execution_count": 7,
   "metadata": {},
   "outputs": [],
   "source": [
    "from numericke_metody.nonlin_equations import simple_iteration"
   ]
  },
  {
   "cell_type": "markdown",
   "metadata": {},
   "source": [
    "$x^2 + \\ln(x) - \\frac{10}{x} = 0$\n",
    "\n",
    "$\\phi(x) = e^{\\frac{10}{x} - x^2}$ ... nekonverguje\n",
    "\n",
    "$\\phi(x) = \\frac{10}{x^2 + \\ln(x)}$ ... nekonverguje\n",
    "\n",
    "$\\phi(x) = \\sqrt{\\frac{10}{x} - \\ln(x)}$ ... konverguje"
   ]
  },
  {
   "cell_type": "code",
   "execution_count": 8,
   "metadata": {},
   "outputs": [],
   "source": [
    "def phi(x):\n",
    "    return np.sqrt(10 / x - np.log(x))"
   ]
  },
  {
   "cell_type": "code",
   "execution_count": 9,
   "metadata": {},
   "outputs": [
    {
     "name": "stdout",
     "output_type": "stream",
     "text": [
      "Initial approximation x0 = 2.5\n",
      "\n",
      "Iteration: 1\n",
      "x_approx = 1.756049335333676, abs_err = 0.7439506646663241\n",
      "\n",
      "Iteration: 2\n",
      "x_approx = 2.2652889966754075, abs_err = 0.5092396613417316\n",
      "\n",
      "Iteration: 3\n",
      "x_approx = 1.896508751524301, abs_err = 0.3687802451511064\n",
      "\n",
      "Iteration: 4\n",
      "x_approx = 2.152401461089691, abs_err = 0.25589270956539\n",
      "\n",
      "Iteration: 5\n",
      "x_approx = 1.969616524365068, abs_err = 0.18278493672462304\n",
      "\n",
      "Iteration: 6\n",
      "x_approx = 2.0974488237632722, abs_err = 0.12783229939820417\n",
      "\n",
      "Iteration: 7\n",
      "x_approx = 2.0067324231350656, abs_err = 0.09071640062820663\n",
      "\n",
      "Iteration: 8\n",
      "x_approx = 2.070439004140122, abs_err = 0.06370658100505633\n",
      "\n",
      "Iteration: 9\n",
      "x_approx = 2.0253722842705058, abs_err = 0.04506671986961619\n",
      "\n",
      "Iteration: 10\n",
      "x_approx = 2.0570878377085164, abs_err = 0.03171555343801069\n",
      "\n",
      "Iteration: 11\n",
      "x_approx = 2.034686662881728, abs_err = 0.022401174826788495\n",
      "\n",
      "Iteration: 12\n",
      "x_approx = 2.0504681969149186, abs_err = 0.015781534033190603\n",
      "\n",
      "Iteration: 13\n",
      "x_approx = 2.039329984983645, abs_err = 0.011138211931273734\n",
      "\n",
      "Iteration: 14\n",
      "x_approx = 2.047180986598077, abs_err = 0.007851001614432196\n",
      "\n",
      "Iteration: 15\n",
      "x_approx = 2.0416420457605544, abs_err = 0.005538940837522599\n",
      "\n",
      "Iteration: 16\n",
      "x_approx = 2.04554732076262, abs_err = 0.0039052750020656113\n",
      "\n",
      "Iteration: 17\n",
      "x_approx = 2.0427926381072847, abs_err = 0.0027546826553352943\n",
      "\n",
      "Iteration: 18\n",
      "x_approx = 2.0447351062281567, abs_err = 0.001942468120871954\n",
      "\n",
      "Iteration: 19\n",
      "x_approx = 2.0433650662043092, abs_err = 0.0013700400238474408\n",
      "\n",
      "Iteration: 20\n",
      "x_approx = 2.0443312153279156, abs_err = 0.0009661491236063746\n",
      "\n"
     ]
    }
   ],
   "source": [
    "result = simple_iteration(phi, 2.5, show_progress=True)"
   ]
  },
  {
   "cell_type": "code",
   "execution_count": 10,
   "metadata": {},
   "outputs": [
    {
     "data": {
      "text/plain": [
       "dict_keys(['x_approx', 'abs_err', 'iters', 'x_vals', 'abs_err_vals'])"
      ]
     },
     "execution_count": 10,
     "metadata": {},
     "output_type": "execute_result"
    }
   ],
   "source": [
    "result.keys()"
   ]
  },
  {
   "cell_type": "code",
   "execution_count": 11,
   "metadata": {},
   "outputs": [
    {
     "data": {
      "text/plain": [
       "2.0443312153279156"
      ]
     },
     "execution_count": 11,
     "metadata": {},
     "output_type": "execute_result"
    }
   ],
   "source": [
    "result['x_approx']"
   ]
  },
  {
   "cell_type": "markdown",
   "metadata": {},
   "source": [
    "# Metoda regula-falsi"
   ]
  },
  {
   "cell_type": "code",
   "execution_count": 12,
   "metadata": {},
   "outputs": [],
   "source": [
    "from numericke_metody.nonlin_equations import regula_falsi"
   ]
  },
  {
   "cell_type": "markdown",
   "metadata": {},
   "source": [
    "$f(x) = \\frac{x}{8 \\cdot (63 x^4 - 70 x^2 + 15)}$"
   ]
  },
  {
   "cell_type": "code",
   "execution_count": 13,
   "metadata": {},
   "outputs": [],
   "source": [
    "def f(x):\n",
    "    return x / 8 * (63 * x**4 - 70 * x**2 + 15)"
   ]
  },
  {
   "cell_type": "code",
   "execution_count": 14,
   "metadata": {},
   "outputs": [
    {
     "name": "stdout",
     "output_type": "stream",
     "text": [
      "Iteration: 1\n",
      "x_approx: 0.06687039996267483\n",
      "\n",
      "Iteration: 2\n",
      "x_approx: -0.0010585357683072366\n",
      "\n",
      "Iteration: 3\n",
      "x_approx: 2.2104283774561145e-05\n",
      "\n"
     ]
    }
   ],
   "source": [
    "result = regula_falsi(f, -0.1, 1, 0.001, show_progress=True)"
   ]
  },
  {
   "cell_type": "code",
   "execution_count": 15,
   "metadata": {},
   "outputs": [
    {
     "data": {
      "text/plain": [
       "dict_keys(['x_approx', 'iters', 's_vals'])"
      ]
     },
     "execution_count": 15,
     "metadata": {},
     "output_type": "execute_result"
    }
   ],
   "source": [
    "result.keys()"
   ]
  },
  {
   "cell_type": "code",
   "execution_count": 16,
   "metadata": {},
   "outputs": [
    {
     "data": {
      "text/plain": [
       "2.2104283774561145e-05"
      ]
     },
     "execution_count": 16,
     "metadata": {},
     "output_type": "execute_result"
    }
   ],
   "source": [
    "result['x_approx']"
   ]
  },
  {
   "cell_type": "markdown",
   "metadata": {},
   "source": [
    "# Newtonova metoda"
   ]
  },
  {
   "cell_type": "code",
   "execution_count": 17,
   "metadata": {},
   "outputs": [],
   "source": [
    "from numericke_metody.nonlin_equations import newton"
   ]
  },
  {
   "cell_type": "markdown",
   "metadata": {},
   "source": [
    "$f(x) = x^2 + \\ln(x) - \\frac{10}{x}$\n",
    "\n",
    "$f'(x) = 2x + \\frac{1}{x} + \\frac{10}{x^2}$\n",
    "\n",
    "--------\n",
    "\n",
    "$f(x) = 0$"
   ]
  },
  {
   "cell_type": "code",
   "execution_count": 18,
   "metadata": {},
   "outputs": [],
   "source": [
    "def f(x):\n",
    "    return x**2 + np.log(x) - 10 / x\n",
    "\n",
    "\n",
    "def df(x):\n",
    "    return 2 * x + 1 / x + 10 / x**2"
   ]
  },
  {
   "cell_type": "code",
   "execution_count": 19,
   "metadata": {},
   "outputs": [
    {
     "name": "stdout",
     "output_type": "stream",
     "text": [
      "Initial approximation x0 = 2.5\n",
      "\n",
      "Iteration: 1\n",
      "x_approx = 2.0476727525894063, abs_err = 0.4523272474105937\n",
      "\n",
      "Iteration: 2\n",
      "x_approx = 2.0439310301711653, abs_err = 0.0037417224182410003\n",
      "\n",
      "Iteration: 3\n",
      "x_approx = 2.0439316050619003, abs_err = 5.748907350167087e-07\n",
      "\n"
     ]
    }
   ],
   "source": [
    "result = newton(f, df, 2.5, show_progress=True)"
   ]
  },
  {
   "cell_type": "code",
   "execution_count": 20,
   "metadata": {},
   "outputs": [
    {
     "data": {
      "text/plain": [
       "dict_keys(['x_approx', 'abs_err', 'iters', 'x_vals', 'abs_err_vals'])"
      ]
     },
     "execution_count": 20,
     "metadata": {},
     "output_type": "execute_result"
    }
   ],
   "source": [
    "result.keys()"
   ]
  },
  {
   "cell_type": "code",
   "execution_count": 21,
   "metadata": {},
   "outputs": [],
   "source": [
    "def phi(x):\n",
    "    return x - f(x) / df(x)"
   ]
  },
  {
   "cell_type": "code",
   "execution_count": 22,
   "metadata": {},
   "outputs": [
    {
     "name": "stdout",
     "output_type": "stream",
     "text": [
      "Initial approximation x0 = 2.5\n",
      "\n",
      "Iteration: 1\n",
      "x_approx = 2.0476727525894063, abs_err = 0.4523272474105937\n",
      "\n",
      "Iteration: 2\n",
      "x_approx = 2.0439310301711653, abs_err = 0.0037417224182410003\n",
      "\n",
      "Iteration: 3\n",
      "x_approx = 2.0439316050619003, abs_err = 5.748907350167087e-07\n",
      "\n"
     ]
    }
   ],
   "source": [
    "result = simple_iteration(phi, 2.5, 0.000001, show_progress=True)"
   ]
  },
  {
   "cell_type": "markdown",
   "metadata": {},
   "source": [
    "# Modifikovaná Newtonova metoda"
   ]
  },
  {
   "cell_type": "code",
   "execution_count": 23,
   "metadata": {},
   "outputs": [],
   "source": [
    "from numericke_metody.nonlin_equations import modified_newton"
   ]
  },
  {
   "cell_type": "code",
   "execution_count": 24,
   "metadata": {},
   "outputs": [
    {
     "name": "stdout",
     "output_type": "stream",
     "text": [
      "Initial approximation x0 = 2.5\n",
      "\n",
      "Iteration: 1\n",
      "x_approx = 2.0476727525894063, abs_err = 0.4523272474105937\n",
      "\n",
      "Iteration: 2\n",
      "x_approx = 2.043947786301483, abs_err = 0.0037249662879230705\n",
      "\n",
      "Iteration: 3\n",
      "x_approx = 2.0439316725648946, abs_err = 1.6113736588607708e-05\n",
      "\n"
     ]
    }
   ],
   "source": [
    "result = modified_newton(f, df(2.5), 2.5, show_progress=True)"
   ]
  },
  {
   "cell_type": "code",
   "execution_count": null,
   "metadata": {},
   "outputs": [],
   "source": []
  }
 ],
 "metadata": {
  "kernelspec": {
   "display_name": "Python 3",
   "language": "python",
   "name": "python3"
  },
  "language_info": {
   "codemirror_mode": {
    "name": "ipython",
    "version": 3
   },
   "file_extension": ".py",
   "mimetype": "text/x-python",
   "name": "python",
   "nbconvert_exporter": "python",
   "pygments_lexer": "ipython3",
   "version": "3.7.4"
  },
  "latex_envs": {
   "LaTeX_envs_menu_present": true,
   "autoclose": false,
   "autocomplete": true,
   "bibliofile": "biblio.bib",
   "cite_by": "apalike",
   "current_citInitial": 1,
   "eqLabelWithNumbers": true,
   "eqNumInitial": 1,
   "hotkeys": {
    "equation": "Ctrl-E",
    "itemize": "Ctrl-I"
   },
   "labels_anchors": false,
   "latex_user_defs": false,
   "report_style_numbering": false,
   "user_envs_cfg": false
  }
 },
 "nbformat": 4,
 "nbformat_minor": 4
}
